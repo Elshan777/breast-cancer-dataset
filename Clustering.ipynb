{
 "cells": [
  {
   "cell_type": "code",
   "execution_count": 1,
   "id": "5e8bdf12",
   "metadata": {},
   "outputs": [],
   "source": [
    "import numpy as np\n",
    "import pandas as pd\n",
    "import matplotlib.pyplot as plt"
   ]
  },
  {
   "cell_type": "code",
   "execution_count": 4,
   "id": "9a9d592e",
   "metadata": {},
   "outputs": [],
   "source": [
    "header_list = ['Class', 'age', 'menopause', 'tumor-size', 'inv-nodes', \n",
    "               'node-caps', 'deg-malig', 'breast', 'breast-quad', 'irradiat']\n",
    "\n",
    "df = pd.read_csv('breast-cancer.csv',  names=header_list, na_values='?')\n",
    "df = df.sample(frac=1)"
   ]
  },
  {
   "cell_type": "code",
   "execution_count": 5,
   "id": "ec22f729",
   "metadata": {},
   "outputs": [
    {
     "data": {
      "text/html": [
       "<div>\n",
       "<style scoped>\n",
       "    .dataframe tbody tr th:only-of-type {\n",
       "        vertical-align: middle;\n",
       "    }\n",
       "\n",
       "    .dataframe tbody tr th {\n",
       "        vertical-align: top;\n",
       "    }\n",
       "\n",
       "    .dataframe thead th {\n",
       "        text-align: right;\n",
       "    }\n",
       "</style>\n",
       "<table border=\"1\" class=\"dataframe\">\n",
       "  <thead>\n",
       "    <tr style=\"text-align: right;\">\n",
       "      <th></th>\n",
       "      <th>Class</th>\n",
       "      <th>age</th>\n",
       "      <th>menopause</th>\n",
       "      <th>tumor-size</th>\n",
       "      <th>inv-nodes</th>\n",
       "      <th>node-caps</th>\n",
       "      <th>deg-malig</th>\n",
       "      <th>breast</th>\n",
       "      <th>breast-quad</th>\n",
       "      <th>irradiat</th>\n",
       "    </tr>\n",
       "  </thead>\n",
       "  <tbody>\n",
       "    <tr>\n",
       "      <th>222</th>\n",
       "      <td>recurrence-events</td>\n",
       "      <td>60-69</td>\n",
       "      <td>ge40</td>\n",
       "      <td>25-29</td>\n",
       "      <td>0-2</td>\n",
       "      <td>no</td>\n",
       "      <td>3</td>\n",
       "      <td>left</td>\n",
       "      <td>right_low</td>\n",
       "      <td>yes</td>\n",
       "    </tr>\n",
       "    <tr>\n",
       "      <th>50</th>\n",
       "      <td>no-recurrence-events</td>\n",
       "      <td>50-59</td>\n",
       "      <td>lt40</td>\n",
       "      <td>15-19</td>\n",
       "      <td>0-2</td>\n",
       "      <td>no</td>\n",
       "      <td>2</td>\n",
       "      <td>left</td>\n",
       "      <td>left_low</td>\n",
       "      <td>no</td>\n",
       "    </tr>\n",
       "    <tr>\n",
       "      <th>76</th>\n",
       "      <td>no-recurrence-events</td>\n",
       "      <td>50-59</td>\n",
       "      <td>ge40</td>\n",
       "      <td>10-14</td>\n",
       "      <td>0-2</td>\n",
       "      <td>no</td>\n",
       "      <td>2</td>\n",
       "      <td>left</td>\n",
       "      <td>left_low</td>\n",
       "      <td>no</td>\n",
       "    </tr>\n",
       "    <tr>\n",
       "      <th>89</th>\n",
       "      <td>no-recurrence-events</td>\n",
       "      <td>40-49</td>\n",
       "      <td>premeno</td>\n",
       "      <td>40-44</td>\n",
       "      <td>0-2</td>\n",
       "      <td>no</td>\n",
       "      <td>1</td>\n",
       "      <td>right</td>\n",
       "      <td>left_up</td>\n",
       "      <td>no</td>\n",
       "    </tr>\n",
       "    <tr>\n",
       "      <th>242</th>\n",
       "      <td>recurrence-events</td>\n",
       "      <td>50-59</td>\n",
       "      <td>ge40</td>\n",
       "      <td>25-29</td>\n",
       "      <td>6-8</td>\n",
       "      <td>no</td>\n",
       "      <td>3</td>\n",
       "      <td>left</td>\n",
       "      <td>left_low</td>\n",
       "      <td>yes</td>\n",
       "    </tr>\n",
       "  </tbody>\n",
       "</table>\n",
       "</div>"
      ],
      "text/plain": [
       "                    Class    age menopause tumor-size inv-nodes node-caps  \\\n",
       "222     recurrence-events  60-69      ge40      25-29       0-2        no   \n",
       "50   no-recurrence-events  50-59      lt40      15-19       0-2        no   \n",
       "76   no-recurrence-events  50-59      ge40      10-14       0-2        no   \n",
       "89   no-recurrence-events  40-49   premeno      40-44       0-2        no   \n",
       "242     recurrence-events  50-59      ge40      25-29       6-8        no   \n",
       "\n",
       "     deg-malig breast breast-quad irradiat  \n",
       "222          3   left   right_low      yes  \n",
       "50           2   left    left_low       no  \n",
       "76           2   left    left_low       no  \n",
       "89           1  right     left_up       no  \n",
       "242          3   left    left_low      yes  "
      ]
     },
     "execution_count": 5,
     "metadata": {},
     "output_type": "execute_result"
    }
   ],
   "source": [
    "df.head()"
   ]
  },
  {
   "cell_type": "code",
   "execution_count": 6,
   "id": "6b9c09cf",
   "metadata": {},
   "outputs": [],
   "source": [
    "from sklearn.cluster import AffinityPropagation, AgglomerativeClustering, Birch, SpectralClustering, KMeans, DBSCAN\n",
    "from sklearn.preprocessing import OneHotEncoder, StandardScaler, LabelEncoder\n",
    "from sklearn.pipeline import Pipeline\n",
    "from sklearn.compose import ColumnTransformer\n",
    "from sklearn.model_selection import train_test_split\n",
    "from sklearn.decomposition import PCA, SparsePCA\n",
    "from sklearn.metrics import silhouette_score, davies_bouldin_score, calinski_harabasz_score, adjusted_rand_score\n",
    "from kmodes.kmodes import KModes"
   ]
  },
  {
   "cell_type": "code",
   "execution_count": 7,
   "id": "6b4c0de3",
   "metadata": {},
   "outputs": [
    {
     "data": {
      "text/plain": [
       "(286, 10)"
      ]
     },
     "execution_count": 7,
     "metadata": {},
     "output_type": "execute_result"
    }
   ],
   "source": [
    "df.shape"
   ]
  },
  {
   "cell_type": "code",
   "execution_count": 10,
   "id": "de95079c",
   "metadata": {},
   "outputs": [],
   "source": [
    "df = df.dropna()"
   ]
  },
  {
   "cell_type": "code",
   "execution_count": 14,
   "id": "5d4adadf",
   "metadata": {},
   "outputs": [],
   "source": [
    "categorical_features = ['age', 'menopause', 'tumor-size', 'inv-nodes', \n",
    "               'node-caps', 'breast', 'breast-quad', 'irradiat']\n",
    "numeric_features = ['deg-malig']"
   ]
  },
  {
   "cell_type": "code",
   "execution_count": 15,
   "id": "725e8292",
   "metadata": {},
   "outputs": [],
   "source": [
    "X, y = df[['age', 'menopause', 'tumor-size', 'inv-nodes', \n",
    "         'node-caps', 'deg-malig', 'breast', 'breast-quad', 'irradiat']], df['Class']\n",
    "\n",
    "y = LabelEncoder().fit_transform(y)"
   ]
  },
  {
   "cell_type": "code",
   "execution_count": null,
   "id": "21720d39",
   "metadata": {},
   "outputs": [],
   "source": []
  },
  {
   "cell_type": "markdown",
   "id": "ee1ab365",
   "metadata": {},
   "source": [
    "K Means"
   ]
  },
  {
   "cell_type": "code",
   "execution_count": 105,
   "id": "d7fb709b",
   "metadata": {},
   "outputs": [],
   "source": [
    "kmeans = KMeans(\n",
    "    init=\"random\",\n",
    "    n_clusters=2,\n",
    "    n_init=10,\n",
    "    max_iter=300,\n",
    "    random_state=42\n",
    ")"
   ]
  },
  {
   "cell_type": "code",
   "execution_count": 108,
   "id": "241185d1",
   "metadata": {},
   "outputs": [],
   "source": [
    "pipe = Pipeline(steps=[ \n",
    "    ('prepocessor', ColumnTransformer(\n",
    "    transformers=[\n",
    "        (\"num\", StandardScaler(), numeric_features),\n",
    "        (\"cat\", OneHotEncoder(handle_unknown='ignore'), categorical_features),\n",
    "    ]\n",
    ")), ('clustering', kmeans)])"
   ]
  },
  {
   "cell_type": "code",
   "execution_count": 111,
   "id": "81234064",
   "metadata": {
    "collapsed": true
   },
   "outputs": [
    {
     "data": {
      "text/plain": [
       "array([1, 1, 0, 0, 1, 1, 0, 0, 0, 0, 1, 1, 1, 1, 1, 1, 0, 1, 1, 1, 0, 0,\n",
       "       1, 0, 0, 1, 0, 1, 1, 1, 0, 1, 1, 0, 0, 0, 0, 0, 0, 0, 1, 1, 1, 0,\n",
       "       1, 1, 0, 1, 1, 0, 1, 0, 1, 1, 1, 1, 0, 1, 0, 0, 1, 0, 0, 0, 1, 1,\n",
       "       0, 0, 0, 1, 1, 1, 1, 0, 1, 0, 0, 1, 1, 1, 0, 1, 0, 1, 1, 0, 0, 0,\n",
       "       1, 0, 1, 0, 0, 1, 1, 0, 1, 0, 1, 0, 1, 0, 1, 1, 1, 0, 0, 1, 1, 1,\n",
       "       1, 0, 1, 1, 1, 1, 1, 0, 0, 1, 1, 1, 1, 1, 1, 0, 0, 0, 1, 0, 0, 1,\n",
       "       0, 0, 0, 1, 1, 1, 1, 1, 1, 1, 1, 1, 1, 0, 0, 1, 0, 1, 1, 1, 1, 1,\n",
       "       1, 1, 1, 1, 1, 1, 0, 1, 1, 1, 1, 1, 0, 0, 1, 1, 0, 1, 0, 0, 0, 1,\n",
       "       0, 1, 1, 1, 0, 1, 0, 0, 1, 1, 1, 0, 1, 0, 1, 1, 1, 1, 0, 1, 1, 1,\n",
       "       1, 0, 1, 1, 1, 1, 1, 0, 0, 0, 1, 0, 1, 0, 0, 1, 1, 0, 1, 0, 1, 1,\n",
       "       1, 1, 1, 0, 1, 1, 0, 0, 0, 0, 0, 1, 1, 1, 1, 1, 0, 1, 1, 1, 0, 1,\n",
       "       1, 0, 1, 0, 0, 1, 1, 1, 1, 1, 1, 1, 0, 1, 1, 0, 0, 1, 1, 1, 0, 0,\n",
       "       0, 0, 0, 0, 1, 0, 1, 0, 0, 0, 1, 1, 1, 0, 1, 0, 1, 0, 1, 0, 1, 0])"
      ]
     },
     "execution_count": 111,
     "metadata": {},
     "output_type": "execute_result"
    }
   ],
   "source": [
    "y_pred = pipe.fit_predict(X)\n",
    "y_pred"
   ]
  },
  {
   "cell_type": "code",
   "execution_count": 113,
   "id": "c78f9393",
   "metadata": {
    "collapsed": true
   },
   "outputs": [
    {
     "data": {
      "text/plain": [
       "array([1, 1, 0, 0, 1, 1, 0, 0, 0, 0, 1, 1, 1, 1, 1, 1, 0, 1, 1, 1, 0, 0,\n",
       "       1, 0, 0, 1, 0, 1, 1, 1, 0, 1, 1, 0, 0, 0, 0, 0, 0, 0, 1, 1, 1, 0,\n",
       "       1, 1, 0, 1, 1, 0, 1, 0, 1, 1, 1, 1, 0, 1, 0, 0, 1, 0, 0, 0, 1, 1,\n",
       "       0, 0, 0, 1, 1, 1, 1, 0, 1, 0, 0, 1, 1, 1, 0, 1, 0, 1, 1, 0, 0, 0,\n",
       "       1, 0, 1, 0, 0, 1, 1, 0, 1, 0, 1, 0, 1, 0, 1, 1, 1, 0, 0, 1, 1, 1,\n",
       "       1, 0, 1, 1, 1, 1, 1, 0, 0, 1, 1, 1, 1, 1, 1, 0, 0, 0, 1, 0, 0, 1,\n",
       "       0, 0, 0, 1, 1, 1, 1, 1, 1, 1, 1, 1, 1, 0, 0, 1, 0, 1, 1, 1, 1, 1,\n",
       "       1, 1, 1, 1, 1, 1, 0, 1, 1, 1, 1, 1, 0, 0, 1, 1, 0, 1, 0, 0, 0, 1,\n",
       "       0, 1, 1, 1, 0, 1, 0, 0, 1, 1, 1, 0, 1, 0, 1, 1, 1, 1, 0, 1, 1, 1,\n",
       "       1, 0, 1, 1, 1, 1, 1, 0, 0, 0, 1, 0, 1, 0, 0, 1, 1, 0, 1, 0, 1, 1,\n",
       "       1, 1, 1, 0, 1, 1, 0, 0, 0, 0, 0, 1, 1, 1, 1, 1, 0, 1, 1, 1, 0, 1,\n",
       "       1, 0, 1, 0, 0, 1, 1, 1, 1, 1, 1, 1, 0, 1, 1, 0, 0, 1, 1, 1, 0, 0,\n",
       "       0, 0, 0, 0, 1, 0, 1, 0, 0, 0, 1, 1, 1, 0, 1, 0, 1, 0, 1, 0, 1, 0])"
      ]
     },
     "execution_count": 113,
     "metadata": {},
     "output_type": "execute_result"
    }
   ],
   "source": [
    "labels = pipe['clustering'].labels_\n",
    "labels"
   ]
  },
  {
   "cell_type": "code",
   "execution_count": null,
   "id": "a141d796",
   "metadata": {},
   "outputs": [],
   "source": []
  },
  {
   "cell_type": "code",
   "execution_count": null,
   "id": "8402ed4c",
   "metadata": {},
   "outputs": [],
   "source": []
  },
  {
   "cell_type": "code",
   "execution_count": 117,
   "id": "e0256aa1",
   "metadata": {},
   "outputs": [],
   "source": [
    "pipe2 = Pipeline(steps=[ \n",
    "    ('prepocessor', ColumnTransformer(\n",
    "    transformers=[\n",
    "        (\"num\", StandardScaler(), numeric_features),\n",
    "        (\"cat\", OneHotEncoder(handle_unknown='ignore'), categorical_features),\n",
    "    ]\n",
    "))])\n",
    "XX = pipe2.fit_transform(X)"
   ]
  },
  {
   "cell_type": "code",
   "execution_count": 126,
   "id": "d2390b76",
   "metadata": {},
   "outputs": [
    {
     "name": "stdout",
     "output_type": "stream",
     "text": [
      "0.14968921932512427\n",
      "2.327450393615745\n",
      "51.12087377647167\n"
     ]
    }
   ],
   "source": [
    "print(silhouette_score(XX, labels))\n",
    "print(davies_bouldin_score(XX.toarray(), labels))\n",
    "print(calinski_harabasz_score(XX.toarray(), labels))"
   ]
  },
  {
   "cell_type": "code",
   "execution_count": 142,
   "id": "d7d96a02",
   "metadata": {},
   "outputs": [],
   "source": [
    "?DBSCAN"
   ]
  },
  {
   "cell_type": "code",
   "execution_count": 20,
   "id": "d265366e",
   "metadata": {},
   "outputs": [],
   "source": [
    "clustering_models = [KMeans(), AffinityPropagation(), Birch(), SpectralClustering(), AgglomerativeClustering ]"
   ]
  },
  {
   "cell_type": "code",
   "execution_count": 22,
   "id": "314d0783",
   "metadata": {},
   "outputs": [
    {
     "name": "stdout",
     "output_type": "stream",
     "text": [
      "\n",
      "\n",
      "KMeans()\n",
      "Silhoutter Score 0.10942418988796714\n",
      "Davies Boildin Score 2.162353596165966\n",
      "Calinski Harabasz 24.933094760725748\n",
      "\n",
      "\n",
      "AffinityPropagation()\n",
      "Silhoutter Score 0.11736575409953805\n",
      "Davies Boildin Score 1.740206585987632\n",
      "Calinski Harabasz 10.987595576654929\n",
      "\n",
      "\n",
      "Birch()\n",
      "Silhoutter Score 0.1084129396028881\n",
      "Davies Boildin Score 2.396699034853752\n",
      "Calinski Harabasz 33.7080924317619\n",
      "\n",
      "\n",
      "SpectralClustering()\n",
      "Silhoutter Score 0.049315880301659815\n",
      "Davies Boildin Score 1.882598192337405\n",
      "Calinski Harabasz 16.363175374646904\n"
     ]
    }
   ],
   "source": [
    "for i in clustering_models:\n",
    "    print(\"\\n\")\n",
    "    print(i)\n",
    "    model = Pipeline(steps=[ \n",
    "        ('prepocessor', ColumnTransformer(\n",
    "        transformers=[\n",
    "            (\"num\", StandardScaler(), numeric_features),\n",
    "            (\"cat\", OneHotEncoder(handle_unknown='ignore'), categorical_features),\n",
    "        ]\n",
    "    )), ('clustering', i)])\n",
    "\n",
    "    model.fit_predict(X)\n",
    "\n",
    "    labels = model['clustering'].labels_\n",
    "\n",
    "\n",
    "    pipe2 = Pipeline(steps=[ \n",
    "        ('prepocessor', ColumnTransformer(\n",
    "        transformers=[\n",
    "            (\"num\", StandardScaler(), numeric_features),\n",
    "            (\"cat\", OneHotEncoder(handle_unknown='ignore'), categorical_features),\n",
    "        ]\n",
    "    ))])\n",
    "    XX = pipe2.fit_transform(X)\n",
    "\n",
    "    print('Silhoutter Score', silhouette_score(XX, labels))\n",
    "    print('Davies Boildin Score', davies_bouldin_score(XX.toarray(), labels))\n",
    "    print('Calinski Harabasz', calinski_harabasz_score(XX.toarray(), labels))"
   ]
  },
  {
   "cell_type": "code",
   "execution_count": null,
   "id": "cb0fd3da",
   "metadata": {},
   "outputs": [],
   "source": []
  },
  {
   "cell_type": "code",
   "execution_count": 17,
   "id": "6a9d745f",
   "metadata": {},
   "outputs": [
    {
     "name": "stdout",
     "output_type": "stream",
     "text": [
      "[['40-49' 'premeno' '25-29' '0-2' 'no' '2' 'left' 'left_low' 'no']\n",
      " ['60-69' 'ge40' '30-34' '0-2' 'no' '3' 'right' 'left_up' 'no']]\n"
     ]
    }
   ],
   "source": [
    "kmodes = KModes(n_clusters=2)\n",
    "\n",
    "clusters = kmodes.fit_predict(X)\n",
    "\n",
    "# Print the cluster centroids\n",
    "print(kmodes.cluster_centroids_)"
   ]
  },
  {
   "cell_type": "code",
   "execution_count": null,
   "id": "474f7403",
   "metadata": {},
   "outputs": [],
   "source": []
  },
  {
   "cell_type": "markdown",
   "id": "fdcec211",
   "metadata": {},
   "source": [
    "Distance-based clustering algorithms can handle categorical data\n",
    "You only have to choose an appropriate distance function such as Gower's distance that combines the attributes as desired into a single distance. Then you can run Hierarchical Clustering, DBSCAN, OPTICS, and many more.\n",
    "\n",
    "Sounds good, but it is only part of the story - your choice of distance function has a massive impact on your results.\n",
    "\n",
    "Results will probably never be \"sound\" with categorical data\n",
    "Nevertheless, clustering may end up never to work well on such data. Consider the description from Wikipedia:\n",
    "\n",
    "Cluster analysis or clustering is the task of grouping a set of objects in such a way that objects in the same group (called a cluster) are more similar (in some sense or another) to each other than to those in other groups (clusters).\n",
    "\n",
    "So for clustering, you need a qualitative similarity, so the algorithm knows when objects are \"more similar\" than others.\n",
    "\n",
    "That is why many algorithms use some form of distance: closer = more similar. It is a very intuitive way of qualifying similarity.\n",
    "\n",
    "With continuous variables, it is challenging enough to properly normalize the data. Most people either ignore data normalization, normalize to [0;1] or standardize to μ=0, σ=1. With high-dimensional data, people sometimes also do PCA (but more often than not use it in an absurd way, witjout considering the effect this has on their data). The good thing with continuous variables is that they can be quite \"forgiving\". If your scaling/weighting is a little off, the outcomes may still be good. Similarly, if there is a small error in your data, it only has a small effect on your distance.\n",
    "\n",
    "Unfortunately, this does not carry over to discrete, likert, or categorical variables. There are plenty of approaches used, such as one-hot encoding (every category becomes its own attribute), binary encodings (first category is 0,0; second is 0,1, third is 1,0, fourth is 1,1) that effectively map your data in a Rd space, where you could use k-means and all that. But these approaches are highly fragile. They tend to work if you have only binary categories, unless they vary too much in frequency. But the problem is that you have low discriminiability. You may have 0 objects at distance 0 (these would be duplicates), then nothing for a while, and then hundreds of objects at distance 2. But nothing inbetween. So whichever algorithm you use, it will have to merge all these objects at once, because they have the exact same similarity. In the worst case, your data might go from duplicates-only to everything-is-one-cluster because of this. Now if you would put different weight on every attribute this will be slightly better (you will still habe lots of object pairs that differ only in this one attribute, and thus have the same distance) but how do you choose the weights of attributes? There does not appear a statistically sound unsupervised way.\n",
    "\n",
    "So in conclusion, I believe that categorical data does not cluster in the way clustering is commonly defined because the discrete nature yields too little discrimination/ranking of similarities. It may have frequent patterns as detected e.g. by Apriori, but that is a very different definition. And how to combine these two is not obvious. So for categorical data, I recommend frequent patterns. These make much more sense than \"clusters\"."
   ]
  },
  {
   "cell_type": "code",
   "execution_count": 25,
   "id": "64a70b84",
   "metadata": {},
   "outputs": [
    {
     "name": "stdout",
     "output_type": "stream",
     "text": [
      "Requirement already satisfied: gower in c:\\users\\elsha\\anaconda3\\lib\\site-packages (0.0.5)\n",
      "Requirement already satisfied: scipy in c:\\users\\elsha\\anaconda3\\lib\\site-packages (from gower) (1.7.2)\n",
      "Requirement already satisfied: numpy in c:\\users\\elsha\\anaconda3\\lib\\site-packages (from gower) (1.21.4)\n"
     ]
    }
   ],
   "source": [
    "!pip install gower"
   ]
  },
  {
   "cell_type": "code",
   "execution_count": 23,
   "id": "8c646d8b",
   "metadata": {},
   "outputs": [],
   "source": [
    "import gower"
   ]
  },
  {
   "cell_type": "code",
   "execution_count": 24,
   "id": "bbc7e1ff",
   "metadata": {},
   "outputs": [
    {
     "data": {
      "text/plain": [
       "array([[0.        , 0.6111111 , 0.5       , ..., 0.5555556 , 0.7777778 ,\n",
       "        0.5555556 ],\n",
       "       [0.6111111 , 0.        , 0.22222222, ..., 0.3888889 , 0.5       ,\n",
       "        0.2777778 ],\n",
       "       [0.5       , 0.22222222, 0.        , ..., 0.2777778 , 0.3888889 ,\n",
       "        0.2777778 ],\n",
       "       ...,\n",
       "       [0.5555556 , 0.3888889 , 0.2777778 , ..., 0.        , 0.6666667 ,\n",
       "        0.22222222],\n",
       "       [0.7777778 , 0.5       , 0.3888889 , ..., 0.6666667 , 0.        ,\n",
       "        0.44444445],\n",
       "       [0.5555556 , 0.2777778 , 0.2777778 , ..., 0.22222222, 0.44444445,\n",
       "        0.        ]], dtype=float32)"
      ]
     },
     "execution_count": 24,
     "metadata": {},
     "output_type": "execute_result"
    }
   ],
   "source": [
    "distance_matrix = gower.gower_matrix(X)\n",
    "distance_matrix"
   ]
  },
  {
   "cell_type": "code",
   "execution_count": null,
   "id": "65ff2115",
   "metadata": {},
   "outputs": [],
   "source": []
  },
  {
   "cell_type": "code",
   "execution_count": null,
   "id": "6bcef792",
   "metadata": {},
   "outputs": [],
   "source": []
  },
  {
   "cell_type": "code",
   "execution_count": 48,
   "id": "150e19c0",
   "metadata": {},
   "outputs": [],
   "source": [
    "from sklearn.cluster import DBSCAN\n",
    "\n",
    "# Configuring the parameters of the clustering algorithm\n",
    "dbscan_cluster = DBSCAN(min_samples=2)\n",
    "\n",
    "# Fitting the clustering algorithm\n",
    "dbscan_cluster.fit(distance_matrix)\n",
    "\n",
    "# Adding the results to a new column in the dataframe\n",
    "df[\"cluster\"] = dbscan_cluster.labels_"
   ]
  },
  {
   "cell_type": "code",
   "execution_count": 49,
   "id": "50e2dae3",
   "metadata": {},
   "outputs": [
    {
     "data": {
      "text/plain": [
       "-1     238\n",
       " 11      3\n",
       " 0       2\n",
       " 17      2\n",
       " 16      2\n",
       " 15      2\n",
       " 14      2\n",
       " 13      2\n",
       " 12      2\n",
       " 10      2\n",
       " 9       2\n",
       " 8       2\n",
       " 7       2\n",
       " 6       2\n",
       " 5       2\n",
       " 4       2\n",
       " 3       2\n",
       " 2       2\n",
       " 1       2\n",
       " 18      2\n",
       "Name: cluster, dtype: int64"
      ]
     },
     "execution_count": 49,
     "metadata": {},
     "output_type": "execute_result"
    }
   ],
   "source": [
    "df['cluster'].value_counts()"
   ]
  },
  {
   "cell_type": "code",
   "execution_count": 176,
   "id": "42e663ab",
   "metadata": {},
   "outputs": [
    {
     "data": {
      "text/plain": [
       "no-recurrence-events    201\n",
       "recurrence-events        85\n",
       "Name: Class, dtype: int64"
      ]
     },
     "execution_count": 176,
     "metadata": {},
     "output_type": "execute_result"
    }
   ],
   "source": [
    "df['Class'].value_counts()"
   ]
  },
  {
   "cell_type": "code",
   "execution_count": 177,
   "id": "d1cd99c5",
   "metadata": {},
   "outputs": [
    {
     "data": {
      "text/plain": [
       "0    201\n",
       "1     85\n",
       "Name: N_Class, dtype: int64"
      ]
     },
     "execution_count": 177,
     "metadata": {},
     "output_type": "execute_result"
    }
   ],
   "source": [
    "df['N_Class'] = LabelEncoder().fit_transform(df['Class'])\n",
    "df['N_Class'].value_counts()"
   ]
  },
  {
   "cell_type": "code",
   "execution_count": 178,
   "id": "933c4248",
   "metadata": {},
   "outputs": [
    {
     "data": {
      "text/plain": [
       "0.7202797202797203"
      ]
     },
     "execution_count": 178,
     "metadata": {},
     "output_type": "execute_result"
    }
   ],
   "source": [
    "accuracy_score( df['N_Class'], df['cluster'] )"
   ]
  },
  {
   "cell_type": "code",
   "execution_count": 91,
   "id": "aae01723",
   "metadata": {},
   "outputs": [
    {
     "name": "stdout",
     "output_type": "stream",
     "text": [
      "\n",
      "\n",
      "KMeans(n_clusters=2)\n",
      "Silhoutte Score 0.335\n",
      "Davies Boildin Score 1.2941\n",
      "Calinski Harabasz 119.0927\n",
      "\n",
      "\n",
      "Birch(n_clusters=2)\n",
      "Silhoutte Score 0.3039\n",
      "Davies Boildin Score 1.438\n",
      "Calinski Harabasz 111.6199\n",
      "\n",
      "\n",
      "SpectralClustering(n_clusters=2)\n",
      "Silhoutte Score 0.2875\n",
      "Davies Boildin Score 1.224\n",
      "Calinski Harabasz 59.0401\n"
     ]
    },
    {
     "name": "stderr",
     "output_type": "stream",
     "text": [
      "C:\\Users\\elsha\\anaconda3\\lib\\site-packages\\sklearn\\cluster\\_spectral.py:589: UserWarning: The spectral clustering API has changed. ``fit``now constructs an affinity matrix from data. To use a custom affinity matrix, set ``affinity=precomputed``.\n",
      "  warnings.warn(\n"
     ]
    }
   ],
   "source": [
    "clustering_models = [KMeans(n_clusters=2), Birch(n_clusters=2), SpectralClustering(n_clusters=2) ]\n",
    "\n",
    "\n",
    "for i in clustering_models:\n",
    "    print(\"\\n\")\n",
    "    print(i)\n",
    "    model = i\n",
    "\n",
    "    model.fit_predict(distance_matrix)\n",
    "\n",
    "    labels = model.labels_\n",
    "\n",
    "    XX = distance_matrix\n",
    "\n",
    "    print('Silhoutte Score', round(silhouette_score(XX, labels), 4) ) \n",
    "    print('Davies Boildin Score', round(davies_bouldin_score(XX, labels), 4) )\n",
    "    print('Calinski Harabasz', round(calinski_harabasz_score(XX, labels), 4) )"
   ]
  },
  {
   "cell_type": "code",
   "execution_count": null,
   "id": "c2e5e842",
   "metadata": {},
   "outputs": [],
   "source": []
  },
  {
   "cell_type": "markdown",
   "id": "903722be",
   "metadata": {},
   "source": [
    "## KModes using Elbow"
   ]
  },
  {
   "cell_type": "code",
   "execution_count": 50,
   "id": "878dadca",
   "metadata": {
    "scrolled": false
   },
   "outputs": [
    {
     "data": {
      "image/png": "[encoded data removed]",
      "text/plain": [
       "<Figure size 432x288 with 1 Axes>"
      ]
     },
     "metadata": {
      "needs_background": "light"
     },
     "output_type": "display_data"
    }
   ],
   "source": [
    "# Elbow curve to find optimal K\n",
    "cost = []\n",
    "K = range(1,9)\n",
    "for num_clusters in list(K):\n",
    "    kmode = KModes(n_clusters=num_clusters, init = \"random\", n_init = 5, verbose=False)\n",
    "    kmode.fit_predict(X)\n",
    "    cost.append(kmode.cost_)\n",
    "    \n",
    "plt.plot(K, cost, 'bx-')\n",
    "plt.xlabel('No. of clusters')\n",
    "plt.ylabel('Cost')\n",
    "plt.title('Elbow Method For Optimal k')\n",
    "plt.show()"
   ]
  },
  {
   "cell_type": "code",
   "execution_count": null,
   "id": "2fdb6326",
   "metadata": {},
   "outputs": [],
   "source": []
  },
  {
   "cell_type": "code",
   "execution_count": 63,
   "id": "c861c073",
   "metadata": {},
   "outputs": [
    {
     "data": {
      "image/png": "[encoded data removed]",
      "text/plain": [
       "<Figure size 576x396 with 1 Axes>"
      ]
     },
     "metadata": {},
     "output_type": "display_data"
    }
   ],
   "source": [
    "# Elbow curve to find optimal K\n",
    "cost = []\n",
    "K = range(1,9)\n",
    "for num_clusters in list(K):\n",
    "    kmode = KModes(n_clusters=num_clusters, init = \"random\", n_init = 5, verbose=False)\n",
    "    kmode.fit_predict(distance_matrix)\n",
    "    cost.append(kmode.cost_)\n",
    "    \n",
    "plt.plot(K, cost, 'bx-')\n",
    "plt.xlabel('No. of clusters')\n",
    "plt.ylabel('Cost')\n",
    "plt.title('Elbow Method For Optimal k')\n",
    "\n",
    "plt.savefig('figures/elbow_kmodes.png')\n",
    "\n",
    "plt.show()"
   ]
  },
  {
   "cell_type": "code",
   "execution_count": null,
   "id": "a6461b64",
   "metadata": {},
   "outputs": [],
   "source": []
  },
  {
   "cell_type": "code",
   "execution_count": null,
   "id": "06980e0b",
   "metadata": {},
   "outputs": [],
   "source": [
    "pipe = Pipeline(steps=[ \n",
    "    ('prepocessor', ColumnTransformer(\n",
    "    transformers=[\n",
    "        (\"num\", StandardScaler(), numeric_features),\n",
    "        (\"cat\", OneHotEncoder(handle_unknown='ignore'), categorical_features),\n",
    "    ]\n",
    ")), ('clustering', kmeans)])\n",
    "\n",
    "\n",
    "# Elbow curve to find optimal K\n",
    "cost = []\n",
    "K = range(1,9)\n",
    "for num_clusters in list(K):\n",
    "#     kmode = KModes(n_clusters=num_clusters, init = \"random\", n_init = 5, verbose=False)\n",
    "    pipe.fit_predict(distance_matrix)\n",
    "    cost.append(kmode.cost_)\n",
    "    \n",
    "plt.plot(K, cost, 'bx-')\n",
    "plt.xlabel('No. of clusters')\n",
    "plt.ylabel('Cost')\n",
    "plt.title('Elbow Method For Optimal k')\n",
    "plt.show()"
   ]
  },
  {
   "cell_type": "code",
   "execution_count": null,
   "id": "b504aec5",
   "metadata": {},
   "outputs": [],
   "source": []
  },
  {
   "cell_type": "code",
   "execution_count": 56,
   "id": "eac6c651",
   "metadata": {},
   "outputs": [
    {
     "name": "stdout",
     "output_type": "stream",
     "text": [
      "Collecting yellowbrick\n",
      "  Downloading yellowbrick-1.3.post1-py3-none-any.whl (271 kB)\n",
      "Requirement already satisfied: scikit-learn>=0.20 in c:\\users\\elsha\\anaconda3\\lib\\site-packages (from yellowbrick) (1.0.1)\n",
      "Requirement already satisfied: scipy>=1.0.0 in c:\\users\\elsha\\anaconda3\\lib\\site-packages (from yellowbrick) (1.7.2)\n",
      "Collecting numpy<1.20,>=1.16.0\n",
      "  Using cached numpy-1.19.5-cp38-cp38-win_amd64.whl (13.3 MB)\n",
      "Requirement already satisfied: matplotlib!=3.0.0,>=2.0.2 in c:\\users\\elsha\\anaconda3\\lib\\site-packages (from yellowbrick) (3.4.3)\n",
      "Requirement already satisfied: cycler>=0.10.0 in c:\\users\\elsha\\anaconda3\\lib\\site-packages (from yellowbrick) (0.10.0)\n",
      "Requirement already satisfied: six in c:\\users\\elsha\\anaconda3\\lib\\site-packages (from cycler>=0.10.0->yellowbrick) (1.16.0)\n",
      "Requirement already satisfied: pyparsing>=2.2.1 in c:\\users\\elsha\\anaconda3\\lib\\site-packages (from matplotlib!=3.0.0,>=2.0.2->yellowbrick) (3.0.4)\n",
      "Requirement already satisfied: kiwisolver>=1.0.1 in c:\\users\\elsha\\anaconda3\\lib\\site-packages (from matplotlib!=3.0.0,>=2.0.2->yellowbrick) (1.3.1)\n",
      "Requirement already satisfied: pillow>=6.2.0 in c:\\users\\elsha\\anaconda3\\lib\\site-packages (from matplotlib!=3.0.0,>=2.0.2->yellowbrick) (8.4.0)\n",
      "Requirement already satisfied: python-dateutil>=2.7 in c:\\users\\elsha\\anaconda3\\lib\\site-packages (from matplotlib!=3.0.0,>=2.0.2->yellowbrick) (2.8.2)\n",
      "Requirement already satisfied: threadpoolctl>=2.0.0 in c:\\users\\elsha\\anaconda3\\lib\\site-packages (from scikit-learn>=0.20->yellowbrick) (3.0.0)\n",
      "Requirement already satisfied: joblib>=0.11 in c:\\users\\elsha\\anaconda3\\lib\\site-packages (from scikit-learn>=0.20->yellowbrick) (1.1.0)\n",
      "Installing collected packages: numpy, yellowbrick\n",
      "  Attempting uninstall: numpy\n",
      "    Found existing installation: numpy 1.21.4\n",
      "    Uninstalling numpy-1.21.4:\n",
      "      Successfully uninstalled numpy-1.21.4\n"
     ]
    },
    {
     "name": "stderr",
     "output_type": "stream",
     "text": [
      "ERROR: Could not install packages due to an OSError: [WinError 5] Access is denied: 'C:\\\\Users\\\\elsha\\\\anaconda3\\\\Lib\\\\site-packages\\\\numpy\\\\~ore\\\\_multiarray_tests.cp38-win_amd64.pyd'\n",
      "Consider using the `--user` option or check the permissions.\n",
      "\n"
     ]
    }
   ],
   "source": [
    "!pip install yellowbrick"
   ]
  },
  {
   "cell_type": "code",
   "execution_count": 62,
   "id": "5bd2a87d",
   "metadata": {},
   "outputs": [
    {
     "data": {
      "image/png": "[encoded data removed]",
      "text/plain": [
       "<Figure size 576x396 with 2 Axes>"
      ]
     },
     "metadata": {},
     "output_type": "display_data"
    },
    {
     "data": {
      "text/plain": [
       "<AxesSubplot:title={'center':'Distortion Score Elbow for KModes Clustering'}, xlabel='k', ylabel='distortion score'>"
      ]
     },
     "execution_count": 62,
     "metadata": {},
     "output_type": "execute_result"
    }
   ],
   "source": [
    "from yellowbrick.cluster import KElbowVisualizer\n",
    "\n",
    "model = KElbowVisualizer(KModes(), k=10)\n",
    "model.fit(distance_matrix)\n",
    "model.show()"
   ]
  },
  {
   "cell_type": "code",
   "execution_count": null,
   "id": "1b12eeda",
   "metadata": {},
   "outputs": [],
   "source": []
  },
  {
   "cell_type": "code",
   "execution_count": null,
   "id": "14299e62",
   "metadata": {},
   "outputs": [],
   "source": []
  },
  {
   "cell_type": "code",
   "execution_count": 201,
   "id": "b425ca41",
   "metadata": {},
   "outputs": [
    {
     "data": {
      "image/png": "[encoded data removed]",
      "text/plain": [
       "<Figure size 432x288 with 1 Axes>"
      ]
     },
     "metadata": {
      "needs_background": "light"
     },
     "output_type": "display_data"
    }
   ],
   "source": [
    "# Elbow curve to find optimal K\n",
    "cost = []\n",
    "K = range(1,9)\n",
    "for num_clusters in list(K):\n",
    "    kmode = KModes(n_clusters=num_clusters, init = \"random\", n_init = 5, verbose=False)\n",
    "    kmode.fit_predict(X)\n",
    "    cost.append(kmode.cost_)\n",
    "    \n",
    "plt.plot(K, cost, 'bx-')\n",
    "plt.xlabel('No. of clusters')\n",
    "plt.ylabel('Cost')\n",
    "plt.title('Elbow Method For Optimal k')\n",
    "plt.show()"
   ]
  },
  {
   "cell_type": "code",
   "execution_count": null,
   "id": "257ff9d2",
   "metadata": {},
   "outputs": [],
   "source": []
  }
 ],
 "metadata": {
  "kernelspec": {
   "display_name": "Python 3 (ipykernel)",
   "language": "python",
   "name": "python3"
  },
  "language_info": {
   "codemirror_mode": {
    "name": "ipython",
    "version": 3
   },
   "file_extension": ".py",
   "mimetype": "text/x-python",
   "name": "python",
   "nbconvert_exporter": "python",
   "pygments_lexer": "ipython3",
   "version": "3.8.8"
  }
 },
 "nbformat": 4,
 "nbformat_minor": 5
}
