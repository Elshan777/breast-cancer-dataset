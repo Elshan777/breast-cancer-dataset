{
 "cells": [
  {
   "cell_type": "code",
   "execution_count": 1,
   "id": "fbbd9094",
   "metadata": {},
   "outputs": [],
   "source": [
    "import numpy as np\n",
    "import pandas as pd\n",
    "import matplotlib.pyplot as plt"
   ]
  },
  {
   "cell_type": "code",
   "execution_count": 23,
   "id": "980c9d02",
   "metadata": {},
   "outputs": [],
   "source": [
    "header_list = ['Class', 'age', 'menopause', 'tumor-size', 'inv-nodes', \n",
    "               'node-caps', 'deg-malig', 'breast', 'breast-quad', 'irradiat']\n",
    "\n",
    "df = pd.read_csv('breast-cancer.csv',  names=header_list)\n",
    "df = df.sample(frac=1)"
   ]
  },
  {
   "cell_type": "code",
   "execution_count": 59,
   "id": "cfc314cb",
   "metadata": {},
   "outputs": [],
   "source": [
    "from sklearn.tree import DecisionTreeClassifier\n",
    "from sklearn.ensemble import RandomForestClassifier, GradientBoostingClassifier\n",
    "from sklearn.neighbors import KNeighborsClassifier\n",
    "from sklearn.svm import SVC\n",
    "from catboost import CatBoostClassifier\n",
    "\n",
    "from sklearn.preprocessing import OneHotEncoder, StandardScaler, LabelEncoder\n",
    "from sklearn.pipeline import Pipeline\n",
    "from sklearn.compose import ColumnTransformer\n",
    "from sklearn.model_selection import train_test_split, cross_val_score"
   ]
  },
  {
   "cell_type": "code",
   "execution_count": 34,
   "id": "8ea5981f",
   "metadata": {},
   "outputs": [],
   "source": [
    "from sklearn.metrics import accuracy_score, roc_auc_score"
   ]
  },
  {
   "cell_type": "code",
   "execution_count": 27,
   "id": "ddf73619",
   "metadata": {},
   "outputs": [],
   "source": [
    "categorical_features = ['age', 'menopause', 'tumor-size', 'inv-nodes', \n",
    "               'node-caps', 'breast', 'breast-quad', 'irradiat']\n",
    "numeric_features = ['deg-malig']"
   ]
  },
  {
   "cell_type": "code",
   "execution_count": 30,
   "id": "a3aa4360",
   "metadata": {},
   "outputs": [],
   "source": [
    "X, y = df[['age', 'menopause', 'tumor-size', 'inv-nodes', \n",
    "         'node-caps', 'deg-malig', 'breast', 'breast-quad', 'irradiat']], df['Class']\n",
    "\n",
    "y = LabelEncoder().fit_transform(y)\n",
    "\n",
    "X_train, X_test, y_train, y_test = train_test_split(X, y)"
   ]
  },
  {
   "cell_type": "code",
   "execution_count": 31,
   "id": "3ef3ce1b",
   "metadata": {},
   "outputs": [
    {
     "data": {
      "text/plain": [
       "(214, 9)"
      ]
     },
     "execution_count": 31,
     "metadata": {},
     "output_type": "execute_result"
    }
   ],
   "source": [
    "X_train.shape"
   ]
  },
  {
   "cell_type": "code",
   "execution_count": 32,
   "id": "1040c28f",
   "metadata": {},
   "outputs": [
    {
     "data": {
      "text/plain": [
       "(72, 9)"
      ]
     },
     "execution_count": 32,
     "metadata": {},
     "output_type": "execute_result"
    }
   ],
   "source": [
    "X_test.shape"
   ]
  },
  {
   "cell_type": "code",
   "execution_count": 84,
   "id": "e39df739",
   "metadata": {},
   "outputs": [
    {
     "data": {
      "text/plain": [
       "0.653901996370236"
      ]
     },
     "execution_count": 84,
     "metadata": {},
     "output_type": "execute_result"
    }
   ],
   "source": [
    "dt = Pipeline(steps=[ ('prepocessor', ColumnTransformer(\n",
    "    transformers=[\n",
    "        (\"num\", StandardScaler(), numeric_features),\n",
    "        (\"cat\", OneHotEncoder(handle_unknown='ignore'), categorical_features),\n",
    "    ]\n",
    ")), ('classification', DecisionTreeClassifier())])\n",
    "\n",
    "# dt.fit(X_train, y_train)\n",
    "\n",
    "# print(\"Accuracy\",accuracy_score(y_test, dt.predict(X_test)))\n",
    "# print(\"AUC\", roc_auc_score(y_test, dt.predict(X_test)))\n",
    "\n",
    "np.mean(cross_val_score(dt, X, y, cv=5, scoring='accuracy'))"
   ]
  },
  {
   "cell_type": "code",
   "execution_count": 83,
   "id": "393190e7",
   "metadata": {},
   "outputs": [
    {
     "data": {
      "text/plain": [
       "0.5724103299856529"
      ]
     },
     "execution_count": 83,
     "metadata": {},
     "output_type": "execute_result"
    }
   ],
   "source": [
    "np.mean(cross_val_score(dt, X, y, cv=5, scoring='roc_auc'))"
   ]
  },
  {
   "cell_type": "code",
   "execution_count": null,
   "id": "eee1668d",
   "metadata": {},
   "outputs": [],
   "source": []
  },
  {
   "cell_type": "code",
   "execution_count": 57,
   "id": "873b2d87",
   "metadata": {},
   "outputs": [
    {
     "name": "stdout",
     "output_type": "stream",
     "text": [
      "Accuracy 0.75\n",
      "AUC 0.6134453781512604\n"
     ]
    }
   ],
   "source": [
    "rf = Pipeline(steps=[ ('prepocessor', ColumnTransformer(\n",
    "    transformers=[\n",
    "        (\"num\", StandardScaler(), numeric_features),\n",
    "        (\"cat\", OneHotEncoder(handle_unknown='ignore'), categorical_features),\n",
    "    ]\n",
    ")), ('classification', RandomForestClassifier())])\n",
    "\n",
    "rf.fit(X_train, y_train)\n",
    "\n",
    "print(\"Accuracy\",accuracy_score(y_test, rf.predict(X_test)))\n",
    "print(\"AUC\", roc_auc_score(y_test, rf.predict(X_test)))"
   ]
  },
  {
   "cell_type": "code",
   "execution_count": 87,
   "id": "af574db0",
   "metadata": {},
   "outputs": [
    {
     "name": "stdout",
     "output_type": "stream",
     "text": [
      "Accuracy 0.7450090744101634\n",
      "AUC 0.6521090387374462\n"
     ]
    }
   ],
   "source": [
    "print(\"Accuracy\", np.mean(cross_val_score(rf, X, y, cv=5, scoring='accuracy')))\n",
    "print(\"AUC\", np.mean(cross_val_score(rf, X, y, cv=5, scoring='roc_auc')))"
   ]
  },
  {
   "cell_type": "code",
   "execution_count": null,
   "id": "dc3eb107",
   "metadata": {},
   "outputs": [],
   "source": []
  },
  {
   "cell_type": "code",
   "execution_count": 52,
   "id": "a6009127",
   "metadata": {},
   "outputs": [
    {
     "name": "stdout",
     "output_type": "stream",
     "text": [
      "Accuracy 0.7083333333333334\n",
      "AUC 0.5560224089635855\n"
     ]
    }
   ],
   "source": [
    "knn = Pipeline(steps=[ ('prepocessor', ColumnTransformer(\n",
    "    transformers=[\n",
    "        (\"num\", StandardScaler(), numeric_features),\n",
    "        (\"cat\", OneHotEncoder(handle_unknown='ignore'), categorical_features),\n",
    "    ]\n",
    ")), ('classification', KNeighborsClassifier())])\n",
    "\n",
    "knn.fit(X_train, y_train)\n",
    "\n",
    "print(\"Accuracy\",accuracy_score(y_test, knn.predict(X_test)))\n",
    "print(\"AUC\", roc_auc_score(y_test, knn.predict(X_test)))"
   ]
  },
  {
   "cell_type": "code",
   "execution_count": 88,
   "id": "0ad3cebd",
   "metadata": {},
   "outputs": [
    {
     "name": "stdout",
     "output_type": "stream",
     "text": [
      "Accuracy 0.7416212946158499\n",
      "AUC 0.6341319942611191\n"
     ]
    }
   ],
   "source": [
    "print(\"Accuracy\", np.mean(cross_val_score(knn, X, y, cv=5, scoring='accuracy')))\n",
    "print(\"AUC\", np.mean(cross_val_score(knn, X, y, cv=5, scoring='roc_auc')))"
   ]
  },
  {
   "cell_type": "code",
   "execution_count": null,
   "id": "98b1f309",
   "metadata": {},
   "outputs": [],
   "source": []
  },
  {
   "cell_type": "code",
   "execution_count": null,
   "id": "fcf34b98",
   "metadata": {},
   "outputs": [],
   "source": []
  },
  {
   "cell_type": "code",
   "execution_count": 53,
   "id": "269eed2e",
   "metadata": {},
   "outputs": [
    {
     "name": "stdout",
     "output_type": "stream",
     "text": [
      "Accuracy 0.7083333333333334\n",
      "AUC 0.5280112044817927\n"
     ]
    }
   ],
   "source": [
    "svc = Pipeline(steps=[ ('prepocessor', ColumnTransformer(\n",
    "    transformers=[\n",
    "        (\"num\", StandardScaler(), numeric_features),\n",
    "        (\"cat\", OneHotEncoder(handle_unknown='ignore'), categorical_features),\n",
    "    ]\n",
    ")), ('classification', SVC())])\n",
    "\n",
    "svc.fit(X_train, y_train)\n",
    "\n",
    "print(\"Accuracy\",accuracy_score(y_test, svc.predict(X_test)))\n",
    "print(\"AUC\", roc_auc_score(y_test, svc.predict(X_test)))"
   ]
  },
  {
   "cell_type": "code",
   "execution_count": 90,
   "id": "cc5e9b97",
   "metadata": {},
   "outputs": [
    {
     "name": "stdout",
     "output_type": "stream",
     "text": [
      "Accuracy 0.7483552631578947\n",
      "AUC 0.6752996103227704\n"
     ]
    }
   ],
   "source": [
    "print(\"Accuracy\", np.mean(cross_val_score(svc, X, y, cv=3, scoring='accuracy')))\n",
    "print(\"AUC\", np.mean(cross_val_score(svc, X, y, cv=3, scoring='roc_auc')))"
   ]
  },
  {
   "cell_type": "code",
   "execution_count": null,
   "id": "6e9baec4",
   "metadata": {},
   "outputs": [],
   "source": []
  },
  {
   "cell_type": "code",
   "execution_count": null,
   "id": "993c502c",
   "metadata": {},
   "outputs": [],
   "source": []
  }
 ],
 "metadata": {
  "kernelspec": {
   "display_name": "Python 3 (ipykernel)",
   "language": "python",
   "name": "python3"
  },
  "language_info": {
   "codemirror_mode": {
    "name": "ipython",
    "version": 3
   },
   "file_extension": ".py",
   "mimetype": "text/x-python",
   "name": "python",
   "nbconvert_exporter": "python",
   "pygments_lexer": "ipython3",
   "version": "3.8.8"
  }
 },
 "nbformat": 4,
 "nbformat_minor": 5
}
