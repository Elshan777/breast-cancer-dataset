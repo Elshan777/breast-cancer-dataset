{
 "cells": [
  {
   "cell_type": "code",
   "execution_count": 50,
   "id": "5e8bdf12",
   "metadata": {},
   "outputs": [],
   "source": [
    "import numpy as np\n",
    "import pandas as pd\n",
    "import matplotlib.pyplot as plt"
   ]
  },
  {
   "cell_type": "code",
   "execution_count": 51,
   "id": "9a9d592e",
   "metadata": {},
   "outputs": [],
   "source": [
    "header_list = ['Class', 'age', 'menopause', 'tumor-size', 'inv-nodes', \n",
    "               'node-caps', 'deg-malig', 'breast', 'breast-quad', 'irradiat']\n",
    "\n",
    "df = pd.read_csv('breast-cancer.csv',  names=header_list)\n",
    "df = df.sample(frac=1)"
   ]
  },
  {
   "cell_type": "code",
   "execution_count": 52,
   "id": "ee03bcfd",
   "metadata": {},
   "outputs": [
    {
     "data": {
      "text/html": [
       "<div>\n",
       "<style scoped>\n",
       "    .dataframe tbody tr th:only-of-type {\n",
       "        vertical-align: middle;\n",
       "    }\n",
       "\n",
       "    .dataframe tbody tr th {\n",
       "        vertical-align: top;\n",
       "    }\n",
       "\n",
       "    .dataframe thead th {\n",
       "        text-align: right;\n",
       "    }\n",
       "</style>\n",
       "<table border=\"1\" class=\"dataframe\">\n",
       "  <thead>\n",
       "    <tr style=\"text-align: right;\">\n",
       "      <th></th>\n",
       "      <th>Class</th>\n",
       "      <th>age</th>\n",
       "      <th>menopause</th>\n",
       "      <th>tumor-size</th>\n",
       "      <th>inv-nodes</th>\n",
       "      <th>node-caps</th>\n",
       "      <th>deg-malig</th>\n",
       "      <th>breast</th>\n",
       "      <th>breast-quad</th>\n",
       "      <th>irradiat</th>\n",
       "    </tr>\n",
       "  </thead>\n",
       "  <tbody>\n",
       "    <tr>\n",
       "      <th>59</th>\n",
       "      <td>no-recurrence-events</td>\n",
       "      <td>60-69</td>\n",
       "      <td>ge40</td>\n",
       "      <td>15-19</td>\n",
       "      <td>0-2</td>\n",
       "      <td>no</td>\n",
       "      <td>1</td>\n",
       "      <td>right</td>\n",
       "      <td>left_up</td>\n",
       "      <td>no</td>\n",
       "    </tr>\n",
       "    <tr>\n",
       "      <th>71</th>\n",
       "      <td>no-recurrence-events</td>\n",
       "      <td>40-49</td>\n",
       "      <td>premeno</td>\n",
       "      <td>25-29</td>\n",
       "      <td>0-2</td>\n",
       "      <td>no</td>\n",
       "      <td>2</td>\n",
       "      <td>right</td>\n",
       "      <td>left_up</td>\n",
       "      <td>no</td>\n",
       "    </tr>\n",
       "    <tr>\n",
       "      <th>148</th>\n",
       "      <td>no-recurrence-events</td>\n",
       "      <td>30-39</td>\n",
       "      <td>premeno</td>\n",
       "      <td>20-24</td>\n",
       "      <td>0-2</td>\n",
       "      <td>no</td>\n",
       "      <td>3</td>\n",
       "      <td>left</td>\n",
       "      <td>central</td>\n",
       "      <td>no</td>\n",
       "    </tr>\n",
       "    <tr>\n",
       "      <th>136</th>\n",
       "      <td>no-recurrence-events</td>\n",
       "      <td>30-39</td>\n",
       "      <td>premeno</td>\n",
       "      <td>40-44</td>\n",
       "      <td>3-5</td>\n",
       "      <td>no</td>\n",
       "      <td>3</td>\n",
       "      <td>right</td>\n",
       "      <td>right_up</td>\n",
       "      <td>yes</td>\n",
       "    </tr>\n",
       "    <tr>\n",
       "      <th>201</th>\n",
       "      <td>recurrence-events</td>\n",
       "      <td>50-59</td>\n",
       "      <td>premeno</td>\n",
       "      <td>15-19</td>\n",
       "      <td>0-2</td>\n",
       "      <td>no</td>\n",
       "      <td>2</td>\n",
       "      <td>left</td>\n",
       "      <td>left_low</td>\n",
       "      <td>no</td>\n",
       "    </tr>\n",
       "  </tbody>\n",
       "</table>\n",
       "</div>"
      ],
      "text/plain": [
       "                    Class    age menopause tumor-size inv-nodes node-caps  \\\n",
       "59   no-recurrence-events  60-69      ge40      15-19       0-2        no   \n",
       "71   no-recurrence-events  40-49   premeno      25-29       0-2        no   \n",
       "148  no-recurrence-events  30-39   premeno      20-24       0-2        no   \n",
       "136  no-recurrence-events  30-39   premeno      40-44       3-5        no   \n",
       "201     recurrence-events  50-59   premeno      15-19       0-2        no   \n",
       "\n",
       "     deg-malig breast breast-quad irradiat  \n",
       "59           1  right     left_up       no  \n",
       "71           2  right     left_up       no  \n",
       "148          3   left     central       no  \n",
       "136          3  right    right_up      yes  \n",
       "201          2   left    left_low       no  "
      ]
     },
     "execution_count": 52,
     "metadata": {},
     "output_type": "execute_result"
    }
   ],
   "source": [
    "df.head()"
   ]
  },
  {
   "cell_type": "code",
   "execution_count": 144,
   "id": "6b9c09cf",
   "metadata": {},
   "outputs": [],
   "source": [
    "from sklearn.cluster import AffinityPropagation, AgglomerativeClustering, Birch, SpectralClustering, KMeans, DBSCAN\n",
    "from sklearn.preprocessing import OneHotEncoder, StandardScaler, LabelEncoder\n",
    "from sklearn.pipeline import Pipeline\n",
    "from sklearn.compose import ColumnTransformer\n",
    "from sklearn.model_selection import train_test_split\n",
    "from sklearn.decomposition import PCA, SparsePCA\n",
    "from sklearn.metrics import silhouette_score, davies_bouldin_score, calinski_harabasz_score, adjusted_rand_score\n",
    "from kmodes.kmodes import KModes"
   ]
  },
  {
   "cell_type": "code",
   "execution_count": null,
   "id": "dda5c057",
   "metadata": {},
   "outputs": [],
   "source": []
  },
  {
   "cell_type": "code",
   "execution_count": 105,
   "id": "d7fb709b",
   "metadata": {},
   "outputs": [],
   "source": [
    "kmeans = KMeans(\n",
    "    init=\"random\",\n",
    "    n_clusters=2,\n",
    "    n_init=10,\n",
    "    max_iter=300,\n",
    "    random_state=42\n",
    ")"
   ]
  },
  {
   "cell_type": "code",
   "execution_count": 106,
   "id": "5d4adadf",
   "metadata": {},
   "outputs": [],
   "source": [
    "categorical_features = ['age', 'menopause', 'tumor-size', 'inv-nodes', \n",
    "               'node-caps', 'breast', 'breast-quad', 'irradiat']\n",
    "numeric_features = ['deg-malig']"
   ]
  },
  {
   "cell_type": "code",
   "execution_count": 107,
   "id": "725e8292",
   "metadata": {},
   "outputs": [],
   "source": [
    "X, y = df[['age', 'menopause', 'tumor-size', 'inv-nodes', \n",
    "         'node-caps', 'deg-malig', 'breast', 'breast-quad', 'irradiat']], df['Class']\n",
    "\n",
    "y = LabelEncoder().fit_transform(y)"
   ]
  },
  {
   "cell_type": "code",
   "execution_count": 108,
   "id": "241185d1",
   "metadata": {},
   "outputs": [],
   "source": [
    "pipe = Pipeline(steps=[ \n",
    "    ('prepocessor', ColumnTransformer(\n",
    "    transformers=[\n",
    "        (\"num\", StandardScaler(), numeric_features),\n",
    "        (\"cat\", OneHotEncoder(handle_unknown='ignore'), categorical_features),\n",
    "    ]\n",
    ")), ('clustering', kmeans)])"
   ]
  },
  {
   "cell_type": "code",
   "execution_count": 111,
   "id": "81234064",
   "metadata": {
    "collapsed": true
   },
   "outputs": [
    {
     "data": {
      "text/plain": [
       "array([1, 1, 0, 0, 1, 1, 0, 0, 0, 0, 1, 1, 1, 1, 1, 1, 0, 1, 1, 1, 0, 0,\n",
       "       1, 0, 0, 1, 0, 1, 1, 1, 0, 1, 1, 0, 0, 0, 0, 0, 0, 0, 1, 1, 1, 0,\n",
       "       1, 1, 0, 1, 1, 0, 1, 0, 1, 1, 1, 1, 0, 1, 0, 0, 1, 0, 0, 0, 1, 1,\n",
       "       0, 0, 0, 1, 1, 1, 1, 0, 1, 0, 0, 1, 1, 1, 0, 1, 0, 1, 1, 0, 0, 0,\n",
       "       1, 0, 1, 0, 0, 1, 1, 0, 1, 0, 1, 0, 1, 0, 1, 1, 1, 0, 0, 1, 1, 1,\n",
       "       1, 0, 1, 1, 1, 1, 1, 0, 0, 1, 1, 1, 1, 1, 1, 0, 0, 0, 1, 0, 0, 1,\n",
       "       0, 0, 0, 1, 1, 1, 1, 1, 1, 1, 1, 1, 1, 0, 0, 1, 0, 1, 1, 1, 1, 1,\n",
       "       1, 1, 1, 1, 1, 1, 0, 1, 1, 1, 1, 1, 0, 0, 1, 1, 0, 1, 0, 0, 0, 1,\n",
       "       0, 1, 1, 1, 0, 1, 0, 0, 1, 1, 1, 0, 1, 0, 1, 1, 1, 1, 0, 1, 1, 1,\n",
       "       1, 0, 1, 1, 1, 1, 1, 0, 0, 0, 1, 0, 1, 0, 0, 1, 1, 0, 1, 0, 1, 1,\n",
       "       1, 1, 1, 0, 1, 1, 0, 0, 0, 0, 0, 1, 1, 1, 1, 1, 0, 1, 1, 1, 0, 1,\n",
       "       1, 0, 1, 0, 0, 1, 1, 1, 1, 1, 1, 1, 0, 1, 1, 0, 0, 1, 1, 1, 0, 0,\n",
       "       0, 0, 0, 0, 1, 0, 1, 0, 0, 0, 1, 1, 1, 0, 1, 0, 1, 0, 1, 0, 1, 0])"
      ]
     },
     "execution_count": 111,
     "metadata": {},
     "output_type": "execute_result"
    }
   ],
   "source": [
    "y_pred = pipe.fit_predict(X)\n",
    "y_pred"
   ]
  },
  {
   "cell_type": "code",
   "execution_count": 113,
   "id": "985e1d6a",
   "metadata": {
    "collapsed": true
   },
   "outputs": [
    {
     "data": {
      "text/plain": [
       "array([1, 1, 0, 0, 1, 1, 0, 0, 0, 0, 1, 1, 1, 1, 1, 1, 0, 1, 1, 1, 0, 0,\n",
       "       1, 0, 0, 1, 0, 1, 1, 1, 0, 1, 1, 0, 0, 0, 0, 0, 0, 0, 1, 1, 1, 0,\n",
       "       1, 1, 0, 1, 1, 0, 1, 0, 1, 1, 1, 1, 0, 1, 0, 0, 1, 0, 0, 0, 1, 1,\n",
       "       0, 0, 0, 1, 1, 1, 1, 0, 1, 0, 0, 1, 1, 1, 0, 1, 0, 1, 1, 0, 0, 0,\n",
       "       1, 0, 1, 0, 0, 1, 1, 0, 1, 0, 1, 0, 1, 0, 1, 1, 1, 0, 0, 1, 1, 1,\n",
       "       1, 0, 1, 1, 1, 1, 1, 0, 0, 1, 1, 1, 1, 1, 1, 0, 0, 0, 1, 0, 0, 1,\n",
       "       0, 0, 0, 1, 1, 1, 1, 1, 1, 1, 1, 1, 1, 0, 0, 1, 0, 1, 1, 1, 1, 1,\n",
       "       1, 1, 1, 1, 1, 1, 0, 1, 1, 1, 1, 1, 0, 0, 1, 1, 0, 1, 0, 0, 0, 1,\n",
       "       0, 1, 1, 1, 0, 1, 0, 0, 1, 1, 1, 0, 1, 0, 1, 1, 1, 1, 0, 1, 1, 1,\n",
       "       1, 0, 1, 1, 1, 1, 1, 0, 0, 0, 1, 0, 1, 0, 0, 1, 1, 0, 1, 0, 1, 1,\n",
       "       1, 1, 1, 0, 1, 1, 0, 0, 0, 0, 0, 1, 1, 1, 1, 1, 0, 1, 1, 1, 0, 1,\n",
       "       1, 0, 1, 0, 0, 1, 1, 1, 1, 1, 1, 1, 0, 1, 1, 0, 0, 1, 1, 1, 0, 0,\n",
       "       0, 0, 0, 0, 1, 0, 1, 0, 0, 0, 1, 1, 1, 0, 1, 0, 1, 0, 1, 0, 1, 0])"
      ]
     },
     "execution_count": 113,
     "metadata": {},
     "output_type": "execute_result"
    }
   ],
   "source": [
    "labels = pipe['clustering'].labels_\n",
    "labels"
   ]
  },
  {
   "cell_type": "code",
   "execution_count": null,
   "id": "0cb775df",
   "metadata": {},
   "outputs": [],
   "source": []
  },
  {
   "cell_type": "code",
   "execution_count": 117,
   "id": "b40d4fc8",
   "metadata": {},
   "outputs": [],
   "source": [
    "pipe2 = Pipeline(steps=[ \n",
    "    ('prepocessor', ColumnTransformer(\n",
    "    transformers=[\n",
    "        (\"num\", StandardScaler(), numeric_features),\n",
    "        (\"cat\", OneHotEncoder(handle_unknown='ignore'), categorical_features),\n",
    "    ]\n",
    "))])\n",
    "XX = pipe2.fit_transform(X)"
   ]
  },
  {
   "cell_type": "code",
   "execution_count": 126,
   "id": "9da96e48",
   "metadata": {},
   "outputs": [
    {
     "name": "stdout",
     "output_type": "stream",
     "text": [
      "0.14968921932512427\n",
      "2.327450393615745\n",
      "51.12087377647167\n"
     ]
    }
   ],
   "source": [
    "print(silhouette_score(XX, labels))\n",
    "print(davies_bouldin_score(XX.toarray(), labels))\n",
    "print(calinski_harabasz_score(XX.toarray(), labels))"
   ]
  },
  {
   "cell_type": "code",
   "execution_count": 142,
   "id": "4fc14fd9",
   "metadata": {},
   "outputs": [],
   "source": [
    "?DBSCAN"
   ]
  },
  {
   "cell_type": "code",
   "execution_count": 147,
   "id": "b3eb4f86",
   "metadata": {},
   "outputs": [],
   "source": [
    "clustering_models = [KMeans(), AffinityPropagation(), Birch(), SpectralClustering() ]"
   ]
  },
  {
   "cell_type": "code",
   "execution_count": 148,
   "id": "b8c5600e",
   "metadata": {},
   "outputs": [
    {
     "name": "stdout",
     "output_type": "stream",
     "text": [
      "\n",
      "\n",
      "KMeans()\n",
      "0.10346127529230191\n",
      "2.154156553494418\n",
      "24.814811793636835\n",
      "\n",
      "\n",
      "AffinityPropagation()\n",
      "0.11559722890641279\n",
      "1.7237129935525008\n",
      "10.738625763224771\n",
      "\n",
      "\n",
      "Birch()\n",
      "0.08999005284409092\n",
      "2.5742506548611876\n",
      "31.801278082540765\n",
      "\n",
      "\n",
      "SpectralClustering()\n",
      "0.10037341894806459\n",
      "1.8884027897674622\n",
      "16.848338181024225\n"
     ]
    }
   ],
   "source": [
    "for i in clustering_models:\n",
    "    print(\"\\n\")\n",
    "    print(i)\n",
    "    model = Pipeline(steps=[ \n",
    "        ('prepocessor', ColumnTransformer(\n",
    "        transformers=[\n",
    "            (\"num\", StandardScaler(), numeric_features),\n",
    "            (\"cat\", OneHotEncoder(handle_unknown='ignore'), categorical_features),\n",
    "        ]\n",
    "    )), ('clustering', i)])\n",
    "\n",
    "    model.fit_predict(X)\n",
    "\n",
    "    labels = model['clustering'].labels_\n",
    "\n",
    "\n",
    "    pipe2 = Pipeline(steps=[ \n",
    "        ('prepocessor', ColumnTransformer(\n",
    "        transformers=[\n",
    "            (\"num\", StandardScaler(), numeric_features),\n",
    "            (\"cat\", OneHotEncoder(handle_unknown='ignore'), categorical_features),\n",
    "        ]\n",
    "    ))])\n",
    "    XX = pipe2.fit_transform(X)\n",
    "\n",
    "    print(silhouette_score(XX, labels))\n",
    "    print(davies_bouldin_score(XX.toarray(), labels))\n",
    "    print(calinski_harabasz_score(XX.toarray(), labels))"
   ]
  },
  {
   "cell_type": "code",
   "execution_count": null,
   "id": "830b5447",
   "metadata": {},
   "outputs": [],
   "source": []
  },
  {
   "cell_type": "code",
   "execution_count": 152,
   "id": "90ed5baf",
   "metadata": {},
   "outputs": [
    {
     "name": "stdout",
     "output_type": "stream",
     "text": [
      "[['50-59' 'premeno' '25-29' '0-2' 'no' '2' 'left' 'left_low' 'no']\n",
      " ['60-69' 'ge40' '30-34' '0-2' 'no' '3' 'right' 'left_up' 'no']]\n"
     ]
    }
   ],
   "source": [
    "kmodes = KModes(n_clusters=2)\n",
    "\n",
    "clusters = kmodes.fit_predict(X)\n",
    "\n",
    "# Print the cluster centroids\n",
    "print(kmodes.cluster_centroids_)"
   ]
  },
  {
   "cell_type": "code",
   "execution_count": null,
   "id": "6de5ced3",
   "metadata": {},
   "outputs": [],
   "source": []
  },
  {
   "cell_type": "markdown",
   "id": "c3b094e4",
   "metadata": {},
   "source": [
    "Distance-based clustering algorithms can handle categorical data\n",
    "You only have to choose an appropriate distance function such as Gower's distance that combines the attributes as desired into a single distance. Then you can run Hierarchical Clustering, DBSCAN, OPTICS, and many more.\n",
    "\n",
    "Sounds good, but it is only part of the story - your choice of distance function has a massive impact on your results.\n",
    "\n",
    "Results will probably never be \"sound\" with categorical data\n",
    "Nevertheless, clustering may end up never to work well on such data. Consider the description from Wikipedia:\n",
    "\n",
    "Cluster analysis or clustering is the task of grouping a set of objects in such a way that objects in the same group (called a cluster) are more similar (in some sense or another) to each other than to those in other groups (clusters).\n",
    "\n",
    "So for clustering, you need a qualitative similarity, so the algorithm knows when objects are \"more similar\" than others.\n",
    "\n",
    "That is why many algorithms use some form of distance: closer = more similar. It is a very intuitive way of qualifying similarity.\n",
    "\n",
    "With continuous variables, it is challenging enough to properly normalize the data. Most people either ignore data normalization, normalize to [0;1] or standardize to μ=0, σ=1. With high-dimensional data, people sometimes also do PCA (but more often than not use it in an absurd way, witjout considering the effect this has on their data). The good thing with continuous variables is that they can be quite \"forgiving\". If your scaling/weighting is a little off, the outcomes may still be good. Similarly, if there is a small error in your data, it only has a small effect on your distance.\n",
    "\n",
    "Unfortunately, this does not carry over to discrete, likert, or categorical variables. There are plenty of approaches used, such as one-hot encoding (every category becomes its own attribute), binary encodings (first category is 0,0; second is 0,1, third is 1,0, fourth is 1,1) that effectively map your data in a Rd space, where you could use k-means and all that. But these approaches are highly fragile. They tend to work if you have only binary categories, unless they vary too much in frequency. But the problem is that you have low discriminiability. You may have 0 objects at distance 0 (these would be duplicates), then nothing for a while, and then hundreds of objects at distance 2. But nothing inbetween. So whichever algorithm you use, it will have to merge all these objects at once, because they have the exact same similarity. In the worst case, your data might go from duplicates-only to everything-is-one-cluster because of this. Now if you would put different weight on every attribute this will be slightly better (you will still habe lots of object pairs that differ only in this one attribute, and thus have the same distance) but how do you choose the weights of attributes? There does not appear a statistically sound unsupervised way.\n",
    "\n",
    "So in conclusion, I believe that categorical data does not cluster in the way clustering is commonly defined because the discrete nature yields too little discrimination/ranking of similarities. It may have frequent patterns as detected e.g. by Apriori, but that is a very different definition. And how to combine these two is not obvious. So for categorical data, I recommend frequent patterns. These make much more sense than \"clusters\"."
   ]
  },
  {
   "cell_type": "code",
   "execution_count": null,
   "id": "a04b91d0",
   "metadata": {},
   "outputs": [],
   "source": []
  },
  {
   "cell_type": "code",
   "execution_count": 167,
   "id": "de71bde4",
   "metadata": {},
   "outputs": [],
   "source": [
    "import gower"
   ]
  },
  {
   "cell_type": "code",
   "execution_count": 168,
   "id": "12ce7f10",
   "metadata": {},
   "outputs": [
    {
     "data": {
      "text/plain": [
       "array([[0.        , 0.3888889 , 0.6666667 , ..., 0.6666667 , 0.6111111 ,\n",
       "        0.33333334],\n",
       "       [0.3888889 , 0.        , 0.5       , ..., 0.5       , 0.33333334,\n",
       "        0.3888889 ],\n",
       "       [0.6666667 , 0.5       , 0.        , ..., 0.22222222, 0.5       ,\n",
       "        0.5555556 ],\n",
       "       ...,\n",
       "       [0.6666667 , 0.5       , 0.22222222, ..., 0.        , 0.5       ,\n",
       "        0.44444445],\n",
       "       [0.6111111 , 0.33333334, 0.5       , ..., 0.5       , 0.        ,\n",
       "        0.5       ],\n",
       "       [0.33333334, 0.3888889 , 0.5555556 , ..., 0.44444445, 0.5       ,\n",
       "        0.        ]], dtype=float32)"
      ]
     },
     "execution_count": 168,
     "metadata": {},
     "output_type": "execute_result"
    }
   ],
   "source": [
    "distance_matrix = gower.gower_matrix(X)\n",
    "distance_matrix"
   ]
  },
  {
   "cell_type": "code",
   "execution_count": null,
   "id": "9201d095",
   "metadata": {},
   "outputs": [],
   "source": []
  },
  {
   "cell_type": "code",
   "execution_count": 193,
   "id": "2ecc6843",
   "metadata": {},
   "outputs": [],
   "source": [
    "from sklearn.cluster import DBSCAN\n",
    "\n",
    "# Configuring the parameters of the clustering algorithm\n",
    "dbscan_cluster = DBSCAN(min_samples=2)\n",
    "\n",
    "# Fitting the clustering algorithm\n",
    "dbscan_cluster.fit(distance_matrix)\n",
    "\n",
    "# Adding the results to a new column in the dataframe\n",
    "df[\"cluster\"] = dbscan_cluster.labels_"
   ]
  },
  {
   "cell_type": "code",
   "execution_count": 194,
   "id": "d4d2ff34",
   "metadata": {},
   "outputs": [
    {
     "data": {
      "text/plain": [
       "-1     247\n",
       " 9       3\n",
       " 1       2\n",
       " 2       2\n",
       " 17      2\n",
       " 16      2\n",
       " 15      2\n",
       " 14      2\n",
       " 13      2\n",
       " 12      2\n",
       " 11      2\n",
       " 10      2\n",
       " 0       2\n",
       " 8       2\n",
       " 7       2\n",
       " 6       2\n",
       " 5       2\n",
       " 4       2\n",
       " 3       2\n",
       " 18      2\n",
       "Name: cluster, dtype: int64"
      ]
     },
     "execution_count": 194,
     "metadata": {},
     "output_type": "execute_result"
    }
   ],
   "source": [
    "df['cluster'].value_counts()"
   ]
  },
  {
   "cell_type": "code",
   "execution_count": 176,
   "id": "d77da410",
   "metadata": {},
   "outputs": [
    {
     "data": {
      "text/plain": [
       "no-recurrence-events    201\n",
       "recurrence-events        85\n",
       "Name: Class, dtype: int64"
      ]
     },
     "execution_count": 176,
     "metadata": {},
     "output_type": "execute_result"
    }
   ],
   "source": [
    "df['Class'].value_counts()"
   ]
  },
  {
   "cell_type": "code",
   "execution_count": 177,
   "id": "75f4a36d",
   "metadata": {},
   "outputs": [
    {
     "data": {
      "text/plain": [
       "0    201\n",
       "1     85\n",
       "Name: N_Class, dtype: int64"
      ]
     },
     "execution_count": 177,
     "metadata": {},
     "output_type": "execute_result"
    }
   ],
   "source": [
    "df['N_Class'] = LabelEncoder().fit_transform(df['Class'])\n",
    "df['N_Class'].value_counts()"
   ]
  },
  {
   "cell_type": "code",
   "execution_count": 178,
   "id": "e8c38a00",
   "metadata": {},
   "outputs": [
    {
     "data": {
      "text/plain": [
       "0.7202797202797203"
      ]
     },
     "execution_count": 178,
     "metadata": {},
     "output_type": "execute_result"
    }
   ],
   "source": [
    "accuracy_score( df['N_Class'], df['cluster'] )"
   ]
  },
  {
   "cell_type": "code",
   "execution_count": null,
   "id": "d005e315",
   "metadata": {},
   "outputs": [],
   "source": []
  },
  {
   "cell_type": "code",
   "execution_count": null,
   "id": "008d3fce",
   "metadata": {},
   "outputs": [],
   "source": []
  },
  {
   "cell_type": "code",
   "execution_count": 199,
   "id": "310ff6e3",
   "metadata": {
    "scrolled": false
   },
   "outputs": [
    {
     "data": {
      "image/png": "[encoded data removed]",
      "text/plain": [
       "<Figure size 432x288 with 1 Axes>"
      ]
     },
     "metadata": {
      "needs_background": "light"
     },
     "output_type": "display_data"
    }
   ],
   "source": [
    "# Elbow curve to find optimal K\n",
    "cost = []\n",
    "K = range(1,9)\n",
    "for num_clusters in list(K):\n",
    "    kmode = KModes(n_clusters=num_clusters, init = \"random\", n_init = 5, verbose=False)\n",
    "    kmode.fit_predict(X)\n",
    "    cost.append(kmode.cost_)\n",
    "    \n",
    "plt.plot(K, cost, 'bx-')\n",
    "plt.xlabel('No. of clusters')\n",
    "plt.ylabel('Cost')\n",
    "plt.title('Elbow Method For Optimal k')\n",
    "plt.show()"
   ]
  },
  {
   "cell_type": "code",
   "execution_count": null,
   "id": "38d3b858",
   "metadata": {},
   "outputs": [],
   "source": []
  }
 ],
 "metadata": {
  "kernelspec": {
   "display_name": "Python 3 (ipykernel)",
   "language": "python",
   "name": "python3"
  },
  "language_info": {
   "codemirror_mode": {
    "name": "ipython",
    "version": 3
   },
   "file_extension": ".py",
   "mimetype": "text/x-python",
   "name": "python",
   "nbconvert_exporter": "python",
   "pygments_lexer": "ipython3",
   "version": "3.8.8"
  }
 },
 "nbformat": 4,
 "nbformat_minor": 5
}
