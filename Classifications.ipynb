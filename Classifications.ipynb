{
 "cells": [
  {
   "cell_type": "code",
   "execution_count": 1,
   "id": "fbbd9094",
   "metadata": {},
   "outputs": [],
   "source": [
    "import numpy as np\n",
    "import pandas as pd\n",
    "import matplotlib.pyplot as plt"
   ]
  },
  {
   "cell_type": "code",
   "execution_count": 60,
   "id": "980c9d02",
   "metadata": {},
   "outputs": [],
   "source": [
    "header_list = ['Class', 'age', 'menopause', 'tumor-size', 'inv-nodes', \n",
    "               'node-caps', 'deg-malig', 'breast', 'breast-quad', 'irradiat']\n",
    "\n",
    "df = pd.read_csv('breast-cancer.csv',  names=header_list)\n",
    "df = df.sample(frac=1)"
   ]
  },
  {
   "cell_type": "code",
   "execution_count": 61,
   "id": "cfc314cb",
   "metadata": {},
   "outputs": [],
   "source": [
    "from sklearn.tree import DecisionTreeClassifier\n",
    "from sklearn.ensemble import RandomForestClassifier, GradientBoostingClassifier\n",
    "from sklearn.neighbors import KNeighborsClassifier\n",
    "from sklearn.svm import SVC\n",
    "from sklearn.linear_model import LogisticRegression\n",
    "\n",
    "from sklearn.preprocessing import OneHotEncoder, StandardScaler, LabelEncoder\n",
    "from sklearn.pipeline import Pipeline\n",
    "from sklearn.compose import ColumnTransformer\n",
    "from sklearn.model_selection import train_test_split, cross_val_score"
   ]
  },
  {
   "cell_type": "code",
   "execution_count": 62,
   "id": "8ea5981f",
   "metadata": {},
   "outputs": [],
   "source": [
    "from sklearn.metrics import accuracy_score, roc_auc_score, classification_report"
   ]
  },
  {
   "cell_type": "code",
   "execution_count": 63,
   "id": "ddf73619",
   "metadata": {},
   "outputs": [],
   "source": [
    "categorical_features = ['age', 'menopause', 'tumor-size', 'inv-nodes', \n",
    "               'node-caps', 'breast', 'breast-quad', 'irradiat']\n",
    "numeric_features = ['deg-malig']"
   ]
  },
  {
   "cell_type": "code",
   "execution_count": 144,
   "id": "a3aa4360",
   "metadata": {},
   "outputs": [],
   "source": [
    "X, y = df[['age', 'menopause', 'tumor-size', 'inv-nodes', \n",
    "         'node-caps', 'deg-malig', 'breast', 'breast-quad', 'irradiat']], df['Class']\n",
    "\n",
    "y = LabelEncoder().fit_transform(y)\n",
    "\n",
    "X_train, X_test, y_train, y_test = train_test_split(X, y, random_state=42)"
   ]
  },
  {
   "cell_type": "code",
   "execution_count": 65,
   "id": "3ef3ce1b",
   "metadata": {},
   "outputs": [
    {
     "data": {
      "text/plain": [
       "(214, 9)"
      ]
     },
     "execution_count": 65,
     "metadata": {},
     "output_type": "execute_result"
    }
   ],
   "source": [
    "X_train.shape"
   ]
  },
  {
   "cell_type": "code",
   "execution_count": 66,
   "id": "1040c28f",
   "metadata": {},
   "outputs": [
    {
     "data": {
      "text/plain": [
       "(72, 9)"
      ]
     },
     "execution_count": 66,
     "metadata": {},
     "output_type": "execute_result"
    }
   ],
   "source": [
    "X_test.shape"
   ]
  },
  {
   "cell_type": "code",
   "execution_count": 67,
   "id": "e3887566",
   "metadata": {},
   "outputs": [
    {
     "data": {
      "text/plain": [
       "0.6993950393224441"
      ]
     },
     "execution_count": 67,
     "metadata": {},
     "output_type": "execute_result"
    }
   ],
   "source": [
    "lr = Pipeline(steps=[ ('prepocessor', ColumnTransformer(\n",
    "    transformers=[\n",
    "        (\"num\", StandardScaler(), numeric_features),\n",
    "        (\"cat\", OneHotEncoder(handle_unknown='ignore'), categorical_features),\n",
    "    ]\n",
    ")), ('classification', LogisticRegression())])\n",
    "\n",
    "# dt.fit(X_train, y_train)\n",
    "\n",
    "# print(\"Accuracy\",accuracy_score(y_test, dt.predict(X_test)))\n",
    "# print(\"AUC\", roc_auc_score(y_test, dt.predict(X_test)))\n",
    "\n",
    "np.mean(cross_val_score(lr, X, y, cv=5, scoring='accuracy'))"
   ]
  },
  {
   "cell_type": "code",
   "execution_count": 68,
   "id": "97c2e979",
   "metadata": {},
   "outputs": [
    {
     "name": "stdout",
     "output_type": "stream",
     "text": [
      "\n"
     ]
    },
    {
     "data": {
      "text/plain": [
       "array([0.67241379, 0.66666667, 0.70175439, 0.70175439, 0.75438596])"
      ]
     },
     "execution_count": 68,
     "metadata": {},
     "output_type": "execute_result"
    }
   ],
   "source": [
    "print()\n",
    "cross_val_score(lr, X, y, cv=5, scoring='accuracy') "
   ]
  },
  {
   "cell_type": "code",
   "execution_count": 69,
   "id": "47dce7e2",
   "metadata": {},
   "outputs": [
    {
     "name": "stdout",
     "output_type": "stream",
     "text": [
      "                      precision    recall  f1-score   support\n",
      "\n",
      "no-recurrence-events       0.73      0.87      0.79        46\n",
      "   recurrence-events       0.65      0.42      0.51        26\n",
      "\n",
      "            accuracy                           0.71        72\n",
      "           macro avg       0.69      0.65      0.65        72\n",
      "        weighted avg       0.70      0.71      0.69        72\n",
      "\n"
     ]
    }
   ],
   "source": [
    "lr.fit(X_train, y_train)\n",
    "print(classification_report(y_test, lr.predict(X_test)))"
   ]
  },
  {
   "cell_type": "code",
   "execution_count": null,
   "id": "c69e28dd",
   "metadata": {},
   "outputs": [],
   "source": []
  },
  {
   "cell_type": "code",
   "execution_count": null,
   "id": "f3f4a359",
   "metadata": {},
   "outputs": [],
   "source": []
  },
  {
   "cell_type": "code",
   "execution_count": 11,
   "id": "e39df739",
   "metadata": {},
   "outputs": [
    {
     "data": {
      "text/plain": [
       "0.6643073200241985"
      ]
     },
     "execution_count": 11,
     "metadata": {},
     "output_type": "execute_result"
    }
   ],
   "source": [
    "dt = Pipeline(steps=[ ('prepocessor', ColumnTransformer(\n",
    "    transformers=[\n",
    "        (\"num\", StandardScaler(), numeric_features),\n",
    "        (\"cat\", OneHotEncoder(handle_unknown='ignore'), categorical_features),\n",
    "    ]\n",
    ")), ('classification', DecisionTreeClassifier())])\n",
    "\n",
    "# dt.fit(X_train, y_train)\n",
    "\n",
    "# print(\"Accuracy\",accuracy_score(y_test, dt.predict(X_test)))\n",
    "# print(\"AUC\", roc_auc_score(y_test, dt.predict(X_test)))\n",
    "\n",
    "np.mean(cross_val_score(dt, X, y, cv=5, scoring='accuracy'))"
   ]
  },
  {
   "cell_type": "code",
   "execution_count": 15,
   "id": "393190e7",
   "metadata": {},
   "outputs": [
    {
     "data": {
      "text/plain": [
       "0.6127690100430416"
      ]
     },
     "execution_count": 15,
     "metadata": {},
     "output_type": "execute_result"
    }
   ],
   "source": [
    "np.mean(cross_val_score(dt, X, y, cv=5, scoring='roc_auc'))"
   ]
  },
  {
   "cell_type": "code",
   "execution_count": null,
   "id": "197ce3ef",
   "metadata": {},
   "outputs": [],
   "source": []
  },
  {
   "cell_type": "code",
   "execution_count": null,
   "id": "6da57578",
   "metadata": {},
   "outputs": [],
   "source": []
  },
  {
   "cell_type": "code",
   "execution_count": null,
   "id": "eee1668d",
   "metadata": {},
   "outputs": [],
   "source": []
  },
  {
   "cell_type": "code",
   "execution_count": 72,
   "id": "873b2d87",
   "metadata": {},
   "outputs": [
    {
     "name": "stdout",
     "output_type": "stream",
     "text": [
      "Accuracy 0.75\n",
      "AUC 0.6274509803921569\n"
     ]
    }
   ],
   "source": [
    "rf = Pipeline(steps=[ ('prepocessor', ColumnTransformer(\n",
    "    transformers=[\n",
    "        (\"num\", StandardScaler(), numeric_features),\n",
    "        (\"cat\", OneHotEncoder(handle_unknown='ignore'), categorical_features),\n",
    "    ]\n",
    ")), ('classification', RandomForestClassifier())])\n",
    "\n",
    "rf.fit(X_train, y_train)\n",
    "\n",
    "print(\"Accuracy\",accuracy_score(y_test, rf.predict(X_test)))\n",
    "print(\"AUC\", roc_auc_score(y_test, rf.predict(X_test)))"
   ]
  },
  {
   "cell_type": "code",
   "execution_count": 73,
   "id": "af574db0",
   "metadata": {},
   "outputs": [
    {
     "name": "stdout",
     "output_type": "stream",
     "text": [
      "Accuracy 0.7516031457955232\n",
      "AUC 0.6973278335724533\n"
     ]
    }
   ],
   "source": [
    "print(\"Accuracy\", np.mean(cross_val_score(rf, X, y, cv=5, scoring='accuracy')))\n",
    "print(\"AUC\", np.mean(cross_val_score(rf, X, y, cv=5, scoring='roc_auc')))"
   ]
  },
  {
   "cell_type": "code",
   "execution_count": 76,
   "id": "02e453f3",
   "metadata": {
    "scrolled": true
   },
   "outputs": [
    {
     "name": "stdout",
     "output_type": "stream",
     "text": [
      "              precision    recall  f1-score   support\n",
      "\n",
      "           0       0.77      0.92      0.84        51\n",
      "           1       0.64      0.33      0.44        21\n",
      "\n",
      "    accuracy                           0.75        72\n",
      "   macro avg       0.70      0.63      0.64        72\n",
      "weighted avg       0.73      0.75      0.72        72\n",
      "\n"
     ]
    }
   ],
   "source": [
    "print(classification_report(y_test, rf.predict(X_test)))"
   ]
  },
  {
   "cell_type": "code",
   "execution_count": 111,
   "id": "d045957a",
   "metadata": {},
   "outputs": [
    {
     "data": {
      "image/png": "[encoded data removed]",
      "text/plain": [
       "<Figure size 432x288 with 1 Axes>"
      ]
     },
     "metadata": {
      "needs_background": "light"
     },
     "output_type": "display_data"
    }
   ],
   "source": [
    "ohe = rf.named_steps[\"prepocessor\"].named_transformers_[\"cat\"]\n",
    "feature_names = ohe.get_feature_names_out(categorical_features)\n",
    "feature_names = np.r_[feature_names, numeric_features]\n",
    "\n",
    "tree_feature_importances = rf.named_steps[\"classification\"].feature_importances_\n",
    "sorted_idx = tree_feature_importances.argsort()\n",
    "\n",
    "y_ticks = np.arange(0, len(feature_names))\n",
    "fig, ax = plt.subplots()\n",
    "ax.barh(y_ticks, tree_feature_importances[sorted_idx])\n",
    "ax.set_yticks(y_ticks)\n",
    "ax.set_yticklabels(feature_names[sorted_idx])\n",
    "ax.set_title(\"Random Forest Feature Importances (MDI)\")\n",
    "ax.set_ylim([30, 41])\n",
    "fig.tight_layout()\n",
    "plt.savefig('figures/rf_feature_importance.png')\n",
    "plt.show()"
   ]
  },
  {
   "cell_type": "code",
   "execution_count": null,
   "id": "ea7aa825",
   "metadata": {},
   "outputs": [],
   "source": []
  },
  {
   "cell_type": "code",
   "execution_count": null,
   "id": "dc3eb107",
   "metadata": {},
   "outputs": [],
   "source": []
  },
  {
   "cell_type": "code",
   "execution_count": 151,
   "id": "a6009127",
   "metadata": {},
   "outputs": [
    {
     "name": "stdout",
     "output_type": "stream",
     "text": [
      "              precision    recall  f1-score   support\n",
      "\n",
      "           0       0.74      0.98      0.84        52\n",
      "           1       0.67      0.10      0.17        20\n",
      "\n",
      "    accuracy                           0.74        72\n",
      "   macro avg       0.70      0.54      0.51        72\n",
      "weighted avg       0.72      0.74      0.66        72\n",
      "\n"
     ]
    }
   ],
   "source": [
    "knn = Pipeline(steps=[ ('prepocessor', ColumnTransformer(\n",
    "    transformers=[\n",
    "        (\"num\", StandardScaler(), numeric_features),\n",
    "        (\"cat\", OneHotEncoder(handle_unknown='ignore'), categorical_features),\n",
    "    ]\n",
    ")), ('classification', KNeighborsClassifier(n_neighbors=4))])\n",
    "\n",
    "knn.fit(X_train, y_train)\n",
    "\n",
    "print(classification_report(y_test, knn.predict(X_test)))"
   ]
  },
  {
   "cell_type": "code",
   "execution_count": 161,
   "id": "0ad3cebd",
   "metadata": {},
   "outputs": [
    {
     "name": "stdout",
     "output_type": "stream",
     "text": [
      "Accuracy 0.7307924984875982\n",
      "AUC 0.610925394548063\n"
     ]
    }
   ],
   "source": [
    "knn = Pipeline(steps=[ ('prepocessor', ColumnTransformer(\n",
    "    transformers=[\n",
    "        (\"num\", StandardScaler(), numeric_features),\n",
    "        (\"cat\", OneHotEncoder(handle_unknown='ignore'), categorical_features),\n",
    "    ]\n",
    ")), ('classification', KNeighborsClassifier(n_neighbors=4))])\n",
    "\n",
    "print(\"Accuracy\", np.mean(cross_val_score(knn, X, y, cv=5, scoring='accuracy')))\n",
    "print(\"AUC\", np.mean(cross_val_score(knn, X, y, cv=5, scoring='roc_auc')))"
   ]
  },
  {
   "cell_type": "code",
   "execution_count": null,
   "id": "98b1f309",
   "metadata": {},
   "outputs": [],
   "source": []
  },
  {
   "cell_type": "code",
   "execution_count": null,
   "id": "fcf34b98",
   "metadata": {},
   "outputs": [],
   "source": []
  },
  {
   "cell_type": "code",
   "execution_count": 53,
   "id": "269eed2e",
   "metadata": {},
   "outputs": [
    {
     "name": "stdout",
     "output_type": "stream",
     "text": [
      "Accuracy 0.7083333333333334\n",
      "AUC 0.5280112044817927\n"
     ]
    }
   ],
   "source": [
    "svc = Pipeline(steps=[ ('prepocessor', ColumnTransformer(\n",
    "    transformers=[\n",
    "        (\"num\", StandardScaler(), numeric_features),\n",
    "        (\"cat\", OneHotEncoder(handle_unknown='ignore'), categorical_features),\n",
    "    ]\n",
    ")), ('classification', SVC())])\n",
    "\n",
    "svc.fit(X_train, y_train)\n",
    "\n",
    "print(\"Accuracy\",accuracy_score(y_test, svc.predict(X_test)))\n",
    "print(\"AUC\", roc_auc_score(y_test, svc.predict(X_test)))"
   ]
  },
  {
   "cell_type": "code",
   "execution_count": 90,
   "id": "cc5e9b97",
   "metadata": {},
   "outputs": [
    {
     "name": "stdout",
     "output_type": "stream",
     "text": [
      "Accuracy 0.7483552631578947\n",
      "AUC 0.6752996103227704\n"
     ]
    }
   ],
   "source": [
    "print(\"Accuracy\", np.mean(cross_val_score(svc, X, y, cv=3, scoring='accuracy')))\n",
    "print(\"AUC\", np.mean(cross_val_score(svc, X, y, cv=3, scoring='roc_auc')))"
   ]
  },
  {
   "cell_type": "code",
   "execution_count": null,
   "id": "6e9baec4",
   "metadata": {},
   "outputs": [],
   "source": []
  },
  {
   "cell_type": "code",
   "execution_count": null,
   "id": "993c502c",
   "metadata": {},
   "outputs": [],
   "source": []
  }
 ],
 "metadata": {
  "kernelspec": {
   "display_name": "Python 3 (ipykernel)",
   "language": "python",
   "name": "python3"
  },
  "language_info": {
   "codemirror_mode": {
    "name": "ipython",
    "version": 3
   },
   "file_extension": ".py",
   "mimetype": "text/x-python",
   "name": "python",
   "nbconvert_exporter": "python",
   "pygments_lexer": "ipython3",
   "version": "3.8.8"
  }
 },
 "nbformat": 4,
 "nbformat_minor": 5
}
